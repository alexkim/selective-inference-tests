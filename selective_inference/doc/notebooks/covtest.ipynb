{
 "metadata": {
  "name": "",
  "signature": "sha256:c8355e2309ffd26338d864dea0dda6c71b6a85ab74b1f07462f3e9b4a383771c"
 },
 "nbformat": 3,
 "nbformat_minor": 0,
 "worksheets": [
  {
   "cells": [
    {
     "cell_type": "heading",
     "level": 2,
     "metadata": {},
     "prompt_number": 1,
     "source": [
      "The covariance test"
     ]
    },
    {
     "cell_type": "markdown",
     "metadata": {},
     "prompt_number": 1,
     "source": [
      "One of the first works in this framework of post-selection\n",
      "inference is the [covariance test](http://arxiv.org/abs/1301.7161).\n",
      "The test was motivated by a drop in covariance of the residual \n",
      "through one step of the [LARS path](http://projecteuclid.org/DPubS?verb=Display&version=1.0&service=UI&handle=euclid.aos/1083178935&page=record). \n",
      "\n",
      "The basic theory behind the `covtest` can be seen by sampling $n$ IID\n",
      "Gaussians and looking at the spacings between the top two.\n",
      "A simple calculation Mills' ratio calculation leads to\n",
      "$$\n",
      "Z^n_{(1)} (Z^n_{(1)} - Z^n_{(2)}) \\overset{D}{\\to} \\text{Exp}(1)\n",
      "$$\n",
      "Here is a little simulation."
     ]
    },
    {
     "cell_type": "code",
     "collapsed": true,
     "input": [
      "import numpy as np\n",
      "np.random.seed(0)\n",
      "%matplotlib inline\n",
      "import matplotlib.pyplot as plt\n",
      "from statsmodels.distributions import ECDF\n",
      "from selection.covtest import covtest\n"
     ],
     "language": "python",
     "metadata": {},
     "outputs": [],
     "prompt_number": 1
    },
    {
     "cell_type": "markdown",
     "metadata": {},
     "prompt_number": 2,
     "source": [
      "We will sample 2000 times from $Z \\sim N(0,I_{50 \\times 50})$ and look at the normalized spacing between the top 2 values.\n",
      "\n"
     ]
    },
    {
     "cell_type": "code",
     "collapsed": false,
     "input": [
      "Z = np.random.standard_normal((2000,50))\n",
      "T = np.zeros(2000)\n",
      "for i in range(2000):\n",
      "    W = np.sort(Z[i])\n",
      "    T[i] = W[-1] * (W[-1] - W[-2])\n",
      "\n",
      "Ugrid = np.linspace(0,1,101)\n",
      "covtest_fig = plt.figure(figsize=(6,6))\n",
      "ax = covtest_fig.gca()\n",
      "ax.plot(Ugrid, ECDF(np.exp(-T))(Ugrid), linestyle='steps', c='k',\n",
      "        label='covtest', linewidth=3)\n",
      "ax.set_title('Null distribution')\n",
      "ax.legend(loc='upper left');"
     ],
     "language": "python",
     "metadata": {},
     "outputs": [],
     "prompt_number": 2
    },
    {
     "cell_type": "markdown",
     "metadata": {},
     "prompt_number": 3,
     "source": [
      "The covariance test is an asymptotic result, and can be used\n",
      "in a sequential procedure called [forward stop](http://arxiv.org/abs/1309.5352) to determine when to\n",
      "stop the LASSO path.\n",
      "\n",
      "An exact version of the covariance test was developed\n",
      "in a general framework for problems beyond the LASSO  using\n",
      "the [Kac-Rice formula](http://arxiv.org/abs/1308.3020).\n",
      "A sequential version along the LARS path was developed,\n",
      "which we refer to as the [spacings test](http://arxiv.org/abs/1401.3889).\n",
      "\n",
      "Here is the exact test, which is the first step of the spacings test."
     ]
    },
    {
     "cell_type": "code",
     "collapsed": false,
     "input": [
      "from scipy.stats import norm as ndist\n",
      "Texact = np.zeros(2000)\n",
      "for i in range(2000):\n",
      "    W = np.sort(Z[i])\n",
      "    Texact[i] = ndist.sf(W[-1]) / ndist.sf(W[-2])\n",
      "ax.plot(Ugrid, ECDF(Texact)(Ugrid), c='blue', linestyle='steps', label='exact covTest',\n",
      "        linewidth=3)\n",
      "covtest_fig"
     ],
     "language": "python",
     "metadata": {},
     "outputs": [],
     "prompt_number": 3
    },
    {
     "cell_type": "heading",
     "level": 2,
     "metadata": {},
     "prompt_number": 4,
     "source": [
      "Covariance test for regression"
     ]
    },
    {
     "cell_type": "markdown",
     "metadata": {},
     "prompt_number": 4,
     "source": [
      "The above tests were based on an IID sample, though\n",
      "both the `covtest` and its exact version can be used\n",
      "in a regression setting. Both tests need access to the covariance\n",
      "of the noise.\n",
      "\n",
      "Formally, suppose \n",
      "$$\n",
      "y|X \\sim N(\\mu, \\Sigma)\n",
      "$$\n",
      "the exact test is a test of \n",
      "$$H_0:\\mu=0.$$\n",
      "\n",
      "The test is based on \n",
      "$$\n",
      "\\lambda_{\\max} = \\|X^Ty\\|_{\\infty}.\n",
      "$$\n",
      "\n",
      "This value of $\\lambda$ is the value at which the first variable enters the LASSO. That is, $\\lambda_{\\max}$ is the smallest \n",
      "$\\lambda$ for which 0 solves\n",
      "$$\n",
      "\\text{minimize}_{\\beta} \\frac{1}{2} \\|y-X\\beta\\|^2_2 + \\lambda \\|\\beta\\|_1.\n",
      "$$\n",
      "\n",
      "Formally, the exact test conditions on the variable $i^*(y)$ that achieves $\\lambda_{\\max}$ and tests a weaker null hypothesis \n",
      "$$H_0:X[:,i^*(y)]^T\\mu=0.$$ The covtest is \n",
      "an approximation of this test, based on the same Mills ratio\n",
      "calculation. (This calculation roughly says that the overshoot of a Gaussian above a level $u$ is roughly an exponential random variable with mean $u^{-1}$).\n",
      "\n",
      "Here is a simulation under $\\Sigma = \\sigma^2 I$ with $\\sigma$ known.\n",
      "The design matrix, before standardization, is Gaussian equicorrelated in the population with parameter 1/2."
     ]
    },
    {
     "cell_type": "code",
     "collapsed": true,
     "input": [
      "n, p, nsim, sigma = 50, 200, 1000, 1.5\n",
      "\n",
      "def instance(n, p, beta=None, sigma=sigma):\n",
      "    X = (np.random.standard_normal((n,p)) + np.random.standard_normal(n)[:,None])\n",
      "    X /= X.std(0)[None,:]\n",
      "    X /= np.sqrt(n)\n",
      "    Y = np.random.standard_normal(n) * sigma\n",
      "    if beta is not None:\n",
      "        Y += np.dot(X, beta)\n",
      "    return X, Y "
     ],
     "language": "python",
     "metadata": {},
     "outputs": [],
     "prompt_number": 4
    },
    {
     "cell_type": "markdown",
     "metadata": {},
     "prompt_number": 5,
     "source": [
      "Let's make a dataset under our global null and compute the\n",
      "exact covtest $p$-value."
     ]
    },
    {
     "cell_type": "code",
     "collapsed": true,
     "input": [
      "X, Y = instance(n, p, sigma=sigma) \n",
      "cone, pval, idx, sign = covtest(X, Y, exact=False)\n",
      "pval"
     ],
     "language": "python",
     "metadata": {},
     "outputs": [],
     "prompt_number": 5
    },
    {
     "cell_type": "markdown",
     "metadata": {},
     "prompt_number": 6,
     "source": [
      "The object `cone` is an instance of `selection.affine.constraints` which does much of the work for affine selection procedures.\n",
      "The variables `idx` and `sign` store which variable achieved\n",
      "$\\lambda_{\\max}$ and the sign of its correlation with $y$."
     ]
    },
    {
     "cell_type": "code",
     "collapsed": false,
     "input": [
      "print type(cone)\n",
      "cone"
     ],
     "language": "python",
     "metadata": {},
     "outputs": [],
     "prompt_number": 6
    },
    {
     "cell_type": "code",
     "collapsed": true,
     "input": [
      "def simulation(beta):\n",
      "    Pcov = []\n",
      "    Pexact = []\n",
      "\n",
      "    for i in range(nsim):\n",
      "        X, Y = instance(n, p, sigma=sigma, beta=beta)\n",
      "        Pcov.append(covtest(X, Y, sigma=sigma, exact=False)[1])\n",
      "        Pexact.append(covtest(X, Y, sigma=sigma, exact=True)[1])\n",
      "\n",
      "    Ugrid = np.linspace(0,1,101)\n",
      "    plt.figure(figsize=(6,6))\n",
      "    plt.plot(Ugrid, ECDF(Pcov)(Ugrid), label='covtest', ls='steps', c='k', linewidth=3)\n",
      "    plt.plot(Ugrid, ECDF(Pexact)(Ugrid), label='exact covtest', ls='steps', c='blue', linewidth=3)\n",
      "    plt.legend(loc='lower right')\n"
     ],
     "language": "python",
     "metadata": {},
     "outputs": [],
     "prompt_number": 7
    },
    {
     "cell_type": "markdown",
     "metadata": {},
     "prompt_number": 8,
     "source": [
      "## Null"
     ]
    },
    {
     "cell_type": "code",
     "collapsed": false,
     "input": [
      "beta = np.zeros(p)\n",
      "simulation(beta)"
     ],
     "language": "python",
     "metadata": {},
     "outputs": [],
     "prompt_number": 8
    },
    {
     "cell_type": "markdown",
     "metadata": {},
     "prompt_number": 9,
     "source": [
      "## 1-sparse"
     ]
    },
    {
     "cell_type": "code",
     "collapsed": true,
     "input": [
      "beta = np.zeros(p)\n",
      "beta[0] = 4\n",
      "simulation(beta)\n",
      " "
     ],
     "language": "python",
     "metadata": {},
     "outputs": [],
     "prompt_number": 9
    },
    {
     "cell_type": "markdown",
     "metadata": {},
     "prompt_number": 10,
     "source": [
      "## 2-sparse"
     ]
    },
    {
     "cell_type": "code",
     "collapsed": true,
     "input": [
      "beta = np.zeros(p)\n",
      "beta[:2] = 4\n",
      "simulation(beta)\n",
      " "
     ],
     "language": "python",
     "metadata": {},
     "outputs": [],
     "prompt_number": 10
    },
    {
     "cell_type": "markdown",
     "metadata": {},
     "prompt_number": 11,
     "source": [
      "## 5-sparse"
     ]
    },
    {
     "cell_type": "code",
     "collapsed": true,
     "input": [
      "beta = np.zeros(p)\n",
      "beta[:5] = 4\n",
      "simulation(beta)\n",
      " "
     ],
     "language": "python",
     "metadata": {},
     "outputs": [],
     "prompt_number": 11
    }
   ],
   "metadata": {}
  }
 ]
}