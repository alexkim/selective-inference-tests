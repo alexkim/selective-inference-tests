{
 "metadata": {
  "name": "",
  "signature": "sha256:c964f677f4d7514f840ef13d83e7588a709e2cb266d1aa4d71b73cfb759e5345"
 },
 "nbformat": 3,
 "nbformat_minor": 0,
 "worksheets": [
  {
   "cells": [
    {
     "cell_type": "code",
     "collapsed": false,
     "input": [
      "%load_ext rmagic\n",
      "from ipy_table import make_table\n",
      "import numpy as np"
     ],
     "language": "python",
     "metadata": {},
     "outputs": []
    },
    {
     "cell_type": "code",
     "collapsed": false,
     "input": [
      "%%R\n",
      "strongstop <- function(p,alpha) {\n",
      "   m <- length(p)\n",
      "   sums <- rev(cumsum(rev(log(p)/(1:m))))\n",
      "   max(which(sums < log(alpha * (1:m) / m)))\n",
      "}\n",
      "strongstop(c(rep(1e-10,10),runif(3000)),.05)"
     ],
     "language": "python",
     "metadata": {},
     "outputs": []
    },
    {
     "cell_type": "code",
     "collapsed": false,
     "input": [
      "%%R\n",
      "forwardstop <- function(p, alpha) {\n",
      "   m <- length(p)\n",
      "   sums <- -(1/(1:m))*cumsum(log(1-p))\n",
      "   max(which(sums < alpha))\n",
      "}"
     ],
     "language": "python",
     "metadata": {},
     "outputs": []
    },
    {
     "cell_type": "code",
     "collapsed": false,
     "input": [
      "def strong_stop(p, alpha=0.3):\n",
      "    %R -i p,alpha\n",
      "    V = %R strongstop(p, alpha)\n",
      "    return V[0]\n",
      "\n",
      "def forward_stop(p, alpha=0.3):\n",
      "    %R -i p,alpha\n",
      "    V = %R forwardstop(p, alpha)\n",
      "    return V[0]"
     ],
     "language": "python",
     "metadata": {},
     "outputs": []
    },
    {
     "cell_type": "code",
     "collapsed": false,
     "input": [
      "def when_null(hyps, sparsity=0):\n",
      "    _when = []\n",
      "    h_cumsum = np.cumsum(hyps, 1) \n",
      "    for i in range(hyps.shape[0]):\n",
      "        try:\n",
      "            idx = min(np.nonzero(h_cumsum[i] >= sparsity)[0]) + 1\n",
      "        except ValueError:\n",
      "            idx = hyps.shape[1] + 1\n",
      "        _when.append(idx) \n",
      "    return np.array(_when) \n",
      "\n",
      "def summary(pvals, hyps, sparsity=0, rule='forward'):\n",
      "    # stop is number selected\n",
      "    stoprule = {'strong':strong_stop, 'forward':forward_stop}[rule]\n",
      "    stop = np.array([max(stoprule(p, alpha=0.1),0) for p in pvals])\n",
      "    fwer = np.mean([s > sparsity for s in stop])\n",
      "    discoveries = np.array([hyp[:s].sum() for s,hyp in zip(stop, hyps)])\n",
      "    varFDP = (stop - discoveries*1.) / (stop + (stop == 0))\n",
      "    first_null = when_null(hyps, sparsity=sparsity)\n",
      "    modelFDP = ((stop - sparsity) / (stop * 1. + (stop == 0))) * (stop >= sparsity)\n",
      "    return np.mean(stop), np.mean(discoveries), np.mean(varFDP), np.mean(first_null), np.mean(fwer), np.mean(modelFDP)\n",
      "\n"
     ],
     "language": "python",
     "metadata": {},
     "outputs": []
    },
    {
     "cell_type": "code",
     "collapsed": false,
     "input": [
      "strong_stop(np.random.sample(1000))"
     ],
     "language": "python",
     "metadata": {},
     "outputs": []
    },
    {
     "cell_type": "markdown",
     "metadata": {},
     "source": [
      "## Data-generating mechanism\n",
      "\n",
      "- $ n, p, \\sigma = (50,100,1.5)$\n",
      "- $\\tilde{X}[i] \\sim N(0, I_{p \\times p} + 0.49 \\cdot 11^T), 1 \\leq i \\leq n$\n",
      "- $X = (I_{n \\times n} - 1/n \\cdot 11^T)\\tilde{X}$.\n",
      "- for given `nnz` (number of non-zero) we set\n",
      "    \n",
      "          beta[:nnz] = np.linspace(4,4.5,nnz) \n",
      "- $Y|X \\sim N(X\\beta, \\sigma^2 I)$\n",
      "\n",
      "\n",
      "So, our non-zero coefficients look like"
     ]
    },
    {
     "cell_type": "code",
     "collapsed": false,
     "input": [
      "[(s, np.linspace(4,4.5,s)) for s in [0,1,2,5]]"
     ],
     "language": "python",
     "metadata": {},
     "outputs": []
    },
    {
     "cell_type": "heading",
     "level": 2,
     "metadata": {},
     "source": [
      "Null model (0-sparse)"
     ]
    },
    {
     "cell_type": "code",
     "collapsed": false,
     "input": [
      "sparsity = 0\n",
      "reducedK = np.load('reduced_split_known%d.npy' % sparsity)\n",
      "reducedU = np.load('reduced_split_unknown%d.npy' % sparsity)\n",
      "reducedKF = np.load('reduced_splitfull_known%d.npy' % sparsity)\n",
      "reducedUF = np.load('reduced_splitfull_unknown%d.npy' % sparsity)\n",
      "covtest = np.load('covtest_split%d.npy' % sparsity)\n",
      "spacings = np.load('spacings_split%d.npy' % sparsity)\n",
      "sample_split = np.load('split%d.npy' % sparsity)\n",
      "hypotheses = np.load('hypotheses_split_%d.npy' % sparsity)\n",
      "hypotheses_full = np.load('hypotheses_splitfull_%d.npy' % sparsity)\n",
      "first_null = when_null(hypotheses, sparsity=sparsity)\n",
      "first_null_full = when_null(hypotheses_full, sparsity=sparsity)\n"
     ],
     "language": "python",
     "metadata": {},
     "outputs": []
    },
    {
     "cell_type": "code",
     "collapsed": false,
     "input": [
      "%%R -i reducedU,reducedK,covtest,spacings,sample_split,reducedKF,reducedUF -h 800 -w 800\n",
      "\n",
      "par(mfrow=c(3,3))\n",
      "for (i in 1:9) {\n",
      "   plot(ecdf(spacings[,i]), col='orange', main=paste('ECDF Step', i))\n",
      "   #plot(ecdf(reducedK[,i]), col='yellow', add=TRUE)\n",
      "   plot(ecdf(reducedKF[,i]), col='cyan', add=TRUE)\n",
      "   #plot(ecdf(reducedU[,i]), col='blue', add=TRUE, lty=2)\n",
      "   plot(ecdf(reducedUF[,i]), col='green', add=TRUE)\n",
      "   #plot(ecdf(covtest[,i]), col='red', add=TRUE)\n",
      "   plot(ecdf(sample_split[,i]), col='purple', add=TRUE)\n",
      "}"
     ],
     "language": "python",
     "metadata": {},
     "outputs": []
    },
    {
     "cell_type": "code",
     "collapsed": false,
     "input": [
      "%%R\n",
      "pdf('null.pdf')\n",
      "par(mfrow=c(3,3))\n",
      "for (i in 1:9) {\n",
      "   plot(ecdf(spacings[,i]), col='orange', main=paste('ECDF Step', i))\n",
      "   #plot(ecdf(reducedK[,i]), col='yellow', add=TRUE)\n",
      "   plot(ecdf(reducedKF[,i]), col='cyan', add=TRUE)\n",
      "   #plot(ecdf(reducedU[,i]), col='blue', add=TRUE, lty=2)\n",
      "   plot(ecdf(reducedUF[,i]), col='green', add=TRUE)\n",
      "   #plot(ecdf(covtest[,i]), col='red', add=TRUE)\n",
      "   plot(ecdf(sample_split[,i]), col='purple', add=TRUE)\n",
      "}\n",
      "dev.off()"
     ],
     "language": "python",
     "metadata": {},
     "outputs": []
    },
    {
     "cell_type": "markdown",
     "metadata": {},
     "source": [
      "## 1-sparse"
     ]
    },
    {
     "cell_type": "code",
     "collapsed": false,
     "input": [
      "sparsity = 1\n",
      "reducedK = np.load('reduced_split_known%d.npy' % sparsity)\n",
      "reducedU = np.load('reduced_split_unknown%d.npy' % sparsity)\n",
      "reducedKF = np.load('reduced_splitfull_known%d.npy' % sparsity)\n",
      "reducedUF = np.load('reduced_splitfull_unknown%d.npy' % sparsity)\n",
      "covtest = np.load('covtest_split%d.npy' % sparsity)\n",
      "spacings = np.load('spacings_split%d.npy' % sparsity)\n",
      "sample_split = np.load('split%d.npy' % sparsity)\n",
      "hypotheses = np.load('hypotheses_split_%d.npy' % sparsity)\n",
      "hypotheses_full = np.load('hypotheses_splitfull_%d.npy' % sparsity)\n",
      "first_null = when_null(hypotheses, sparsity=sparsity)\n",
      "first_null_full = when_null(hypotheses_full, sparsity=sparsity)"
     ],
     "language": "python",
     "metadata": {},
     "outputs": []
    },
    {
     "cell_type": "markdown",
     "metadata": {},
     "source": [
      "### Strong stop"
     ]
    },
    {
     "cell_type": "code",
     "collapsed": false,
     "input": [
      "make_table([['Method', 'Steps taken', 'True variables discovered', 'varFDP', 'Steps to find model', 'FWER', 'modelFDP']]\n",
      "            + [(name,) + summary(data, hyps, sparsity=sparsity, rule='strong') for name, data, hyps in \n",
      "               zip(['Sample splitting', 'Reduced full data, unknown', 'Reduced full data, known', 'Full model, known'],\n",
      "                   [sample_split, reducedUF, reducedKF, spacings],\n",
      "                   [hypotheses, hypotheses_full, hypotheses_full, hypotheses_full])])\n",
      "\n",
      "           "
     ],
     "language": "python",
     "metadata": {},
     "outputs": []
    },
    {
     "cell_type": "markdown",
     "metadata": {},
     "source": [
      "### Forward stop"
     ]
    },
    {
     "cell_type": "code",
     "collapsed": false,
     "input": [
      "make_table([['Method', 'Steps taken', 'True variables discovered', 'varFDP', 'Steps to find model', 'FWER', 'modelFDP']]\n",
      "            + [(name,) + summary(data, hyps, sparsity=sparsity, rule='forward') for name, data, hyps in \n",
      "               zip(['Sample splitting', 'Reduced full data, unknown', 'Reduced full data, known', 'Full model, known'],\n",
      "                   [sample_split, reducedUF, reducedKF, spacings],\n",
      "                   [hypotheses, hypotheses_full, hypotheses_full, hypotheses_full])])\n"
     ],
     "language": "python",
     "metadata": {},
     "outputs": []
    },
    {
     "cell_type": "markdown",
     "metadata": {},
     "source": [
      "### Mixture"
     ]
    },
    {
     "cell_type": "code",
     "collapsed": false,
     "input": [
      "%%R -i reducedU,reducedK,covtest,spacings,sample_split,reducedKF,reducedUF,first_null,first_null_full -h 800 -w 800\n",
      "par(mfrow=c(3,3))\n",
      "for (i in 1:9) {\n",
      "   plot(ecdf(spacings[,i]), col='orange', main=paste('ECDF Step', i))\n",
      "   plot(ecdf(reducedK[,i]), col='yellow', add=TRUE)\n",
      "   plot(ecdf(covtest[,i]), col='red', add=TRUE)\n",
      "   plot(ecdf(sample_split[,i]), col='purple', add=TRUE)   \n",
      "   plot(ecdf(reducedU[,i]), col='blue', add=TRUE, lty=2)\n",
      "   plot(ecdf(reducedKF[,i]), col='cyan', add=TRUE)\n",
      "   plot(ecdf(reducedUF[,i]), col='green', add=TRUE)\n",
      "}\n"
     ],
     "language": "python",
     "metadata": {},
     "outputs": []
    },
    {
     "cell_type": "markdown",
     "metadata": {},
     "source": [
      "### Null p-values"
     ]
    },
    {
     "cell_type": "code",
     "collapsed": false,
     "input": [
      "%%R -i hypotheses,hypotheses_full -h 800 -w 800\n",
      "par(mfrow=c(3,3))\n",
      "for (i in 1:9) {\n",
      "   null_Ps = (i >= first_null+1)\n",
      "   if (sum(null_Ps) > 0) {\n",
      "      plot(ecdf(spacings[null_Ps,i]), col='orange', main=paste('ECDF Step', i))\n",
      "      plot(ecdf(reducedK[null_Ps,i]), col='yellow', add=TRUE)\n",
      "      plot(ecdf(covtest[null_Ps,i]), col='red', add=TRUE)\n",
      "      plot(ecdf(sample_split[null_Ps,i]), col='purple', add=TRUE)   \n",
      "      plot(ecdf(reducedU[null_Ps,i]), col='blue', add=TRUE, lty=2)\n",
      "   }\n",
      "   null_Ps = (i >= first_null_full+1)\n",
      "   if (sum(null_Ps) > 0) {\n",
      "       plot(ecdf(reducedKF[null_Ps,i]), col='cyan', add=TRUE)\n",
      "       plot(ecdf(reducedUF[null_Ps,i]), col='green', add=TRUE)\n",
      "   }\n",
      "}\n"
     ],
     "language": "python",
     "metadata": {},
     "outputs": []
    },
    {
     "cell_type": "markdown",
     "metadata": {},
     "source": [
      "### Non-null p-values"
     ]
    },
    {
     "cell_type": "code",
     "collapsed": false,
     "input": [
      "%%R -i hypotheses,hypotheses_full -h 800 -w 800\n",
      "par(mfrow=c(3,3))\n",
      "for (i in 1:9) {\n",
      "   null_Ps = (i >= first_null+1)\n",
      "   any_null=FALSE\n",
      "    if (sum(!null_Ps) > 0) {\n",
      "      any_null = TRUE\n",
      "      plot(ecdf(spacings[!null_Ps,i]), col='orange', main=paste('ECDF Step', i))\n",
      "      plot(ecdf(reducedK[!null_Ps,i]), col='yellow', add=TRUE)\n",
      "      plot(ecdf(covtest[!null_Ps,i]), col='red', add=TRUE)\n",
      "      plot(ecdf(sample_split[!null_Ps,i]), col='purple', add=TRUE)   \n",
      "      plot(ecdf(reducedU[!null_Ps,i]), col='blue', add=TRUE, lty=2)\n",
      "   }\n",
      "   null_Ps = (i >= first_null_full+1)\n",
      "   if (sum(!null_Ps) > 0) {\n",
      "       plot(ecdf(reducedKF[!null_Ps,i]), col='cyan', add=any_null, main=paste('ECDF Step', i))\n",
      "       plot(ecdf(reducedUF[!null_Ps,i]), col='green', add=TRUE)\n",
      "    }\n",
      "}"
     ],
     "language": "python",
     "metadata": {},
     "outputs": []
    },
    {
     "cell_type": "markdown",
     "metadata": {},
     "source": [
      "### Last step"
     ]
    },
    {
     "cell_type": "code",
     "collapsed": false,
     "input": [
      "%%R -i hypotheses,hypotheses_full -h 800 -w 800\n",
      "par(mfrow=c(3,3))\n",
      "for (i in 1:9) {\n",
      "   null_Ps = (i == first_null)\n",
      "   any_null=FALSE\n",
      "    if (sum(null_Ps) > 0) {\n",
      "      any_null = TRUE\n",
      "      plot(ecdf(spacings[null_Ps,i]), col='orange', main=paste('ECDF Step', i))\n",
      "      plot(ecdf(reducedK[null_Ps,i]), col='yellow', add=TRUE)\n",
      "      plot(ecdf(covtest[null_Ps,i]), col='red', add=TRUE)\n",
      "      plot(ecdf(sample_split[null_Ps,i]), col='purple', add=TRUE)   \n",
      "      plot(ecdf(reducedU[null_Ps,i]), col='blue', add=TRUE, lty=2)\n",
      "   }\n",
      "   null_Ps = (i == first_null_full)\n",
      "   if (sum(null_Ps) > 0) {\n",
      "       plot(ecdf(reducedKF[null_Ps,i]), col='cyan', add=any_null, main=paste('ECDF Step', i))\n",
      "       plot(ecdf(reducedUF[null_Ps,i]), col='green', add=TRUE)\n",
      "    }\n",
      "}"
     ],
     "language": "python",
     "metadata": {},
     "outputs": []
    },
    {
     "cell_type": "markdown",
     "metadata": {},
     "source": [
      "### Discoveries (when we had a true variable added to some model)"
     ]
    },
    {
     "cell_type": "code",
     "collapsed": false,
     "input": [
      "%%R  -h 800 -w 800\n",
      "par(mfrow=c(3,3))\n",
      "for (i in 1:9) {\n",
      "   alt_Ps = (hypotheses[,i] == 1)\n",
      "   if (sum(alt_Ps) > 0) {\n",
      "      plot(ecdf(spacings[alt_Ps,i]), col='orange', main=paste('ECDF Step', i))\n",
      "      plot(ecdf(reducedK[alt_Ps,i]), col='yellow', add=TRUE)\n",
      "      plot(ecdf(covtest[alt_Ps,i]), col='red', add=TRUE)\n",
      "      plot(ecdf(sample_split[alt_Ps,i]), col='purple', add=TRUE)   \n",
      "      plot(ecdf(reducedU[alt_Ps,i]), col='blue', add=TRUE, lty=2)\n",
      "   }\n",
      "   alt_Ps = (hypotheses_full[,i] == 1)\n",
      "   if (sum(alt_Ps) > 0) {\n",
      "       plot(ecdf(reducedKF[alt_Ps,i]), col='cyan', add=TRUE)\n",
      "       plot(ecdf(reducedUF[alt_Ps,i]), col='green', add=TRUE)\n",
      "   }\n",
      "}\n"
     ],
     "language": "python",
     "metadata": {},
     "outputs": []
    },
    {
     "cell_type": "heading",
     "level": 2,
     "metadata": {},
     "source": [
      "2-sparse"
     ]
    },
    {
     "cell_type": "code",
     "collapsed": false,
     "input": [
      "sparsity = 2\n",
      "reducedK = np.load('reduced_split_known%d.npy' % sparsity)\n",
      "reducedU = np.load('reduced_split_unknown%d.npy' % sparsity)\n",
      "reducedKF = np.load('reduced_splitfull_known%d.npy' % sparsity)\n",
      "reducedUF = np.load('reduced_splitfull_unknown%d.npy' % sparsity)\n",
      "covtest = np.load('covtest_split%d.npy' % sparsity)\n",
      "spacings = np.load('spacings_split%d.npy' % sparsity)\n",
      "sample_split = np.load('split%d.npy' % sparsity)\n",
      "hypotheses = np.load('hypotheses_split_%d.npy' % sparsity)\n",
      "hypotheses_full = np.load('hypotheses_splitfull_%d.npy' % sparsity)\n",
      "first_null = when_null(hypotheses, sparsity=sparsity)\n",
      "first_null_full = when_null(hypotheses_full, sparsity=sparsity)"
     ],
     "language": "python",
     "metadata": {},
     "outputs": []
    },
    {
     "cell_type": "markdown",
     "metadata": {},
     "source": [
      "### Strong stop"
     ]
    },
    {
     "cell_type": "code",
     "collapsed": false,
     "input": [
      "table = ([['Method', 'Steps taken', 'True variables discovered', 'varFDP', 'Steps to find model', 'FWER', 'modelFDP']]\n",
      "        + [(name,) + summary(data, hyps, sparsity=sparsity, rule='strong') for name, data, hyps in \n",
      "                   zip(['Sample splitting', 'Reduced full data, unknown', 'Reduced full data, known', 'Full model, known'],\n",
      "                   [sample_split, reducedUF, reducedKF, spacings],\n",
      "                   [hypotheses, hypotheses_full, hypotheses_full, hypotheses_full])])"
     ],
     "language": "python",
     "metadata": {},
     "outputs": []
    },
    {
     "cell_type": "code",
     "collapsed": false,
     "input": [
      "make_table(table)\n",
      "tex_table = r'''\n",
      "\\begin{tabular}[ccccccc] \\hline\n",
      "%s\n",
      "\\end{tabular}\n",
      "''' % '\\n'.join([(' & '.join([str(s) for s in row]) + r'\\\\ \\hline') for row in table])\n",
      "print tex_table"
     ],
     "language": "python",
     "metadata": {},
     "outputs": []
    },
    {
     "cell_type": "markdown",
     "metadata": {},
     "source": [
      "### Forward stop"
     ]
    },
    {
     "cell_type": "code",
     "collapsed": false,
     "input": [
      "table =([['Method', 'Steps taken', 'True variables discovered', 'varFDP', 'Steps to find model', 'FWER', 'modelFDP']]\n",
      "            + [(name,) + summary(data, hyps, sparsity=sparsity, rule='forward') for name, data, hyps in \n",
      "               zip(['Sample splitting', 'Reduced full data, unknown', 'Reduced full data, known', 'Full model, known'],\n",
      "                   [sample_split, reducedUF, reducedKF, spacings],\n",
      "                   [hypotheses, hypotheses_full, hypotheses_full, hypotheses_full])])\n"
     ],
     "language": "python",
     "metadata": {},
     "outputs": []
    },
    {
     "cell_type": "code",
     "collapsed": false,
     "input": [
      "make_table(table)\n",
      "tex_table = r'''\n",
      "\\begin{tabular}[ccccccc] \\hline\n",
      "%s\n",
      "\\end{tabular}\n",
      "''' % '\\n'.join([(' & '.join([str(s) for s in row]) + r'\\\\ \\hline') for row in table])\n",
      "print tex_table"
     ],
     "language": "python",
     "metadata": {},
     "outputs": []
    },
    {
     "cell_type": "markdown",
     "metadata": {},
     "source": [
      "### Mixture"
     ]
    },
    {
     "cell_type": "code",
     "collapsed": false,
     "input": [
      "%%R -i reducedU,reducedK,covtest,spacings,sample_split,reducedKF,reducedUF,first_null,first_null_full -h 800 -w 800\n",
      "par(mfrow=c(3,3))\n",
      "for (i in 1:9) {\n",
      "   plot(ecdf(spacings[,i]), col='orange', main=paste('ECDF Step', i))\n",
      "   plot(ecdf(reducedK[,i]), col='yellow', add=TRUE)\n",
      "   plot(ecdf(reducedKF[,i]), col='cyan', add=TRUE)\n",
      "   plot(ecdf(reducedU[,i]), col='blue', add=TRUE, lty=2)\n",
      "   plot(ecdf(reducedUF[,i]), col='green', add=TRUE)\n",
      "   plot(ecdf(covtest[,i]), col='red', add=TRUE)\n",
      "   plot(ecdf(sample_split[,i]), col='purple', add=TRUE)\n",
      "}\n"
     ],
     "language": "python",
     "metadata": {},
     "outputs": []
    },
    {
     "cell_type": "code",
     "collapsed": false,
     "input": [
      "%%R\n",
      "par(mfrow=c(3,3))\n",
      "for (i in 1:9) {\n",
      "   plot(ecdf(spacings[,i]), col='orange', main=paste('ECDF Step', i))\n",
      "   #plot(ecdf(reducedK[,i]), col='yellow', add=TRUE)\n",
      "   plot(ecdf(reducedKF[,i]), col='cyan', add=TRUE)\n",
      "   #plot(ecdf(reducedU[,i]), col='blue', add=TRUE, lty=2)\n",
      "   plot(ecdf(reducedUF[,i]), col='green', add=TRUE)\n",
      "   #plot(ecdf(covtest[,i]), col='red', add=TRUE)\n",
      "   plot(ecdf(sample_split[,i]), col='purple', add=TRUE)\n",
      "}\n"
     ],
     "language": "python",
     "metadata": {},
     "outputs": []
    },
    {
     "cell_type": "code",
     "collapsed": false,
     "input": [
      "%%R\n",
      "pdf('model5sparse.pdf')\n",
      "par(mfrow=c(3,3))\n",
      "for (i in 1:9) {\n",
      "   plot(ecdf(spacings[,i]), col='orange', main=paste('ECDF Step', i))\n",
      "   #plot(ecdf(reducedK[,i]), col='yellow', add=TRUE)\n",
      "   plot(ecdf(reducedKF[,i]), col='cyan', add=TRUE)\n",
      "   #plot(ecdf(reducedU[,i]), col='blue', add=TRUE, lty=2)\n",
      "   plot(ecdf(reducedUF[,i]), col='green', add=TRUE)\n",
      "   #plot(ecdf(covtest[,i]), col='red', add=TRUE)\n",
      "   plot(ecdf(sample_split[,i]), col='purple', add=TRUE)\n",
      "}\n",
      "dev.off()"
     ],
     "language": "python",
     "metadata": {},
     "outputs": []
    },
    {
     "cell_type": "markdown",
     "metadata": {},
     "source": [
      "### Null p-values"
     ]
    },
    {
     "cell_type": "code",
     "collapsed": false,
     "input": [
      "%%R -i hypotheses,hypotheses_full -h 800 -w 800\n",
      "par(mfrow=c(3,3))\n",
      "for (i in 1:9) {\n",
      "   null_Ps = (i >= first_null+1)\n",
      "   if (sum(null_Ps) > 0) {\n",
      "      plot(ecdf(spacings[null_Ps,i]), col='orange', main=paste('ECDF Step', i))\n",
      "      plot(ecdf(reducedK[null_Ps,i]), col='yellow', add=TRUE)\n",
      "      plot(ecdf(covtest[null_Ps,i]), col='red', add=TRUE)\n",
      "      plot(ecdf(sample_split[null_Ps,i]), col='purple', add=TRUE)   \n",
      "      plot(ecdf(reducedU[null_Ps,i]), col='blue', add=TRUE, lty=2)\n",
      "   }\n",
      "   null_Ps = (i >= first_null_full+1)\n",
      "   if (sum(null_Ps) > 0) {\n",
      "       plot(ecdf(reducedKF[null_Ps,i]), col='cyan', add=TRUE)\n",
      "       plot(ecdf(reducedUF[null_Ps,i]), col='green', add=TRUE)\n",
      "   }\n",
      "}\n"
     ],
     "language": "python",
     "metadata": {},
     "outputs": []
    },
    {
     "cell_type": "markdown",
     "metadata": {},
     "source": [
      "### Non-null p-values"
     ]
    },
    {
     "cell_type": "code",
     "collapsed": false,
     "input": [
      "%%R -i hypotheses,hypotheses_full -h 800 -w 800\n",
      "par(mfrow=c(3,3))\n",
      "for (i in 1:9) {\n",
      "   null_Ps = (i >= first_null+1)\n",
      "   any_null=FALSE\n",
      "    if (sum(!null_Ps) > 0) {\n",
      "      any_null = TRUE\n",
      "      plot(ecdf(spacings[!null_Ps,i]), col='orange', main=paste('ECDF Step', i))\n",
      "      plot(ecdf(reducedK[!null_Ps,i]), col='yellow', add=TRUE)\n",
      "      plot(ecdf(covtest[!null_Ps,i]), col='red', add=TRUE)\n",
      "      plot(ecdf(sample_split[!null_Ps,i]), col='purple', add=TRUE)   \n",
      "      plot(ecdf(reducedU[!null_Ps,i]), col='blue', add=TRUE, lty=2)\n",
      "   }\n",
      "   null_Ps = (i >= first_null_full+1)\n",
      "   if (sum(!null_Ps) > 0) {\n",
      "       plot(ecdf(reducedKF[!null_Ps,i]), col='cyan', add=any_null, main=paste('ECDF Step', i))\n",
      "       plot(ecdf(reducedUF[!null_Ps,i]), col='green', add=TRUE)\n",
      "    }\n",
      "}"
     ],
     "language": "python",
     "metadata": {},
     "outputs": []
    },
    {
     "cell_type": "markdown",
     "metadata": {},
     "source": [
      "### Last step"
     ]
    },
    {
     "cell_type": "code",
     "collapsed": false,
     "input": [
      "%%R -i hypotheses,hypotheses_full -h 800 -w 800\n",
      "par(mfrow=c(3,3))\n",
      "for (i in 1:9) {\n",
      "   null_Ps = (i == first_null)\n",
      "   any_null=FALSE\n",
      "    if (sum(null_Ps) > 0) {\n",
      "      any_null = TRUE\n",
      "      plot(ecdf(spacings[null_Ps,i]), col='orange', main=paste('ECDF Step', i))\n",
      "      plot(ecdf(reducedK[null_Ps,i]), col='yellow', add=TRUE)\n",
      "      plot(ecdf(covtest[null_Ps,i]), col='red', add=TRUE)\n",
      "      plot(ecdf(sample_split[null_Ps,i]), col='purple', add=TRUE)   \n",
      "      plot(ecdf(reducedU[null_Ps,i]), col='blue', add=TRUE, lty=2)\n",
      "   }\n",
      "   null_Ps = (i == first_null_full)\n",
      "   if (sum(null_Ps) > 0) {\n",
      "       plot(ecdf(reducedKF[null_Ps,i]), col='cyan', add=any_null, main=paste('ECDF Step', i))\n",
      "       plot(ecdf(reducedUF[null_Ps,i]), col='green', add=TRUE)\n",
      "    }\n",
      "}"
     ],
     "language": "python",
     "metadata": {},
     "outputs": []
    },
    {
     "cell_type": "markdown",
     "metadata": {},
     "source": [
      "### Discoveries (when we had a true variable added to some model)"
     ]
    },
    {
     "cell_type": "code",
     "collapsed": false,
     "input": [
      "%%R  -h 800 -w 800\n",
      "par(mfrow=c(3,3))\n",
      "for (i in 1:9) {\n",
      "   alt_Ps = (hypotheses[,i] == 1)\n",
      "   if (sum(alt_Ps) > 0) {\n",
      "      plot(ecdf(spacings[alt_Ps,i]), col='orange', main=paste('ECDF Step', i))\n",
      "      plot(ecdf(reducedK[alt_Ps,i]), col='yellow', add=TRUE)\n",
      "      plot(ecdf(covtest[alt_Ps,i]), col='red', add=TRUE)\n",
      "      plot(ecdf(sample_split[alt_Ps,i]), col='purple', add=TRUE)   \n",
      "      plot(ecdf(reducedU[alt_Ps,i]), col='blue', add=TRUE, lty=2)\n",
      "   }\n",
      "   alt_Ps = (hypotheses_full[,i] == 1)\n",
      "   if (sum(alt_Ps) > 0) {\n",
      "       plot(ecdf(reducedKF[alt_Ps,i]), col='cyan', add=TRUE)\n",
      "       plot(ecdf(reducedUF[alt_Ps,i]), col='green', add=TRUE)\n",
      "   }\n",
      "}\n"
     ],
     "language": "python",
     "metadata": {},
     "outputs": []
    },
    {
     "cell_type": "heading",
     "level": 2,
     "metadata": {},
     "source": [
      "5-sparse"
     ]
    },
    {
     "cell_type": "code",
     "collapsed": false,
     "input": [
      "sparsity = 5\n",
      "reducedK = np.load('reduced_split_known%d.npy' % sparsity)\n",
      "reducedU = np.load('reduced_split_unknown%d.npy' % sparsity)\n",
      "reducedKF = np.load('reduced_splitfull_known%d.npy' % sparsity)\n",
      "reducedUF = np.load('reduced_splitfull_unknown%d.npy' % sparsity)\n",
      "covtest = np.load('covtest_split%d.npy' % sparsity)\n",
      "spacings = np.load('spacings_split%d.npy' % sparsity)\n",
      "sample_split = np.load('split%d.npy' % sparsity)\n",
      "hypotheses = np.load('hypotheses_split_%d.npy' % sparsity)\n",
      "hypotheses_full = np.load('hypotheses_splitfull_%d.npy' % sparsity)\n",
      "first_null = when_null(hypotheses, sparsity=sparsity)\n",
      "first_null_full = when_null(hypotheses_full, sparsity=sparsity)\n"
     ],
     "language": "python",
     "metadata": {},
     "outputs": []
    },
    {
     "cell_type": "markdown",
     "metadata": {},
     "source": [
      "### Strong stop"
     ]
    },
    {
     "cell_type": "code",
     "collapsed": false,
     "input": [
      "make_table([['Method', 'Steps taken', 'True variables discovered', 'varFDP', 'Steps to find model', 'FWER', 'modelFDP']]\n",
      "            + [(name,) + summary(data, hyps, sparsity=sparsity, rule='strong') for name, data, hyps in \n",
      "               zip(['Sample splitting', 'Reduced full data, unknown', 'Reduced full data, known', 'Full model, known'],\n",
      "                   [sample_split, reducedUF, reducedKF, spacings],\n",
      "                   [hypotheses, hypotheses_full, hypotheses_full, hypotheses_full])])\n",
      "\n"
     ],
     "language": "python",
     "metadata": {},
     "outputs": []
    },
    {
     "cell_type": "markdown",
     "metadata": {},
     "source": [
      "### Forward stop"
     ]
    },
    {
     "cell_type": "code",
     "collapsed": false,
     "input": [
      "make_table([['Method', 'Steps taken', 'True variables discovered', 'varFDP', 'Steps to find model', 'FWER', 'modelFDP']]\n",
      "            + [(name,) + summary(data, hyps, sparsity=sparsity, rule='forward') for name, data, hyps in \n",
      "               zip(['Sample splitting', 'Reduced full data, unknown', 'Reduced full data, known', 'Full model, known'],\n",
      "                   [sample_split, reducedUF, reducedKF, spacings],\n",
      "                   [hypotheses, hypotheses_full, hypotheses_full, hypotheses_full])])\n"
     ],
     "language": "python",
     "metadata": {},
     "outputs": []
    },
    {
     "cell_type": "markdown",
     "metadata": {},
     "source": [
      "### Null p-values"
     ]
    },
    {
     "cell_type": "code",
     "collapsed": false,
     "input": [
      "%%R -i reducedU,reducedK,covtest,spacings,sample_split,reducedKF,reducedUF,first_null,first_null_full -h 800 -w 800\n",
      "par(mfrow=c(3,3))\n",
      "for (i in 1:9) {\n",
      "   plot(ecdf(spacings[,i]), col='orange', main=paste('ECDF Step', i))\n",
      "   plot(ecdf(reducedK[,i]), col='yellow', add=TRUE)\n",
      "   plot(ecdf(reducedKF[,i]), col='cyan', add=TRUE)\n",
      "   plot(ecdf(reducedU[,i]), col='blue', add=TRUE, lty=2)\n",
      "   plot(ecdf(reducedUF[,i]), col='green', add=TRUE)\n",
      "   plot(ecdf(covtest[,i]), col='red', add=TRUE)\n",
      "   plot(ecdf(sample_split[,i]), col='purple', add=TRUE)\n",
      "}\n"
     ],
     "language": "python",
     "metadata": {},
     "outputs": []
    },
    {
     "cell_type": "markdown",
     "metadata": {},
     "source": [
      "### Null p-values"
     ]
    },
    {
     "cell_type": "code",
     "collapsed": false,
     "input": [
      "%%R -i hypotheses,hypotheses_full -h 800 -w 800\n",
      "par(mfrow=c(3,3))\n",
      "for (i in 1:9) {\n",
      "   null_Ps = (i >= first_null+1)\n",
      "   any_null=FALSE\n",
      "    if (sum(null_Ps) > 0) {\n",
      "      any_null = TRUE\n",
      "      plot(ecdf(spacings[null_Ps,i]), col='orange', main=paste('ECDF Step', i))\n",
      "      plot(ecdf(reducedK[null_Ps,i]), col='yellow', add=TRUE)\n",
      "      plot(ecdf(covtest[null_Ps,i]), col='red', add=TRUE)\n",
      "      plot(ecdf(sample_split[null_Ps,i]), col='purple', add=TRUE)   \n",
      "      plot(ecdf(reducedU[null_Ps,i]), col='blue', add=TRUE, lty=2)\n",
      "   }\n",
      "   null_Ps = (i >= first_null_full+1)\n",
      "   if (sum(null_Ps) > 0) {\n",
      "       plot(ecdf(reducedKF[null_Ps,i]), col='cyan', add=any_null, main=paste('ECDF Step', i))\n",
      "       plot(ecdf(reducedUF[null_Ps,i]), col='green', add=TRUE)\n",
      "    }\n",
      "}"
     ],
     "language": "python",
     "metadata": {},
     "outputs": []
    },
    {
     "cell_type": "markdown",
     "metadata": {},
     "source": [
      "### Non-null p-values"
     ]
    },
    {
     "cell_type": "code",
     "collapsed": false,
     "input": [
      "%%R -i hypotheses,hypotheses_full -h 800 -w 800\n",
      "par(mfrow=c(3,3))\n",
      "for (i in 1:9) {\n",
      "   null_Ps = (i >= first_null+1)\n",
      "   any_null=FALSE\n",
      "    if (sum(!null_Ps) > 0) {\n",
      "      any_null = TRUE\n",
      "      plot(ecdf(spacings[!null_Ps,i]), col='orange', main=paste('ECDF Step', i))\n",
      "      plot(ecdf(reducedK[!null_Ps,i]), col='yellow', add=TRUE)\n",
      "      plot(ecdf(covtest[!null_Ps,i]), col='red', add=TRUE)\n",
      "      plot(ecdf(sample_split[!null_Ps,i]), col='purple', add=TRUE)   \n",
      "      plot(ecdf(reducedU[!null_Ps,i]), col='blue', add=TRUE, lty=2)\n",
      "   }\n",
      "   null_Ps = (i >= first_null_full+1)\n",
      "   if (sum(!null_Ps) > 0) {\n",
      "       plot(ecdf(reducedKF[!null_Ps,i]), col='cyan', add=any_null, main=paste('ECDF Step', i))\n",
      "       plot(ecdf(reducedUF[!null_Ps,i]), col='green', add=TRUE)\n",
      "    }\n",
      "}"
     ],
     "language": "python",
     "metadata": {},
     "outputs": []
    },
    {
     "cell_type": "markdown",
     "metadata": {},
     "source": [
      "### Last step"
     ]
    },
    {
     "cell_type": "code",
     "collapsed": false,
     "input": [
      "%%R -i hypotheses,hypotheses_full -h 800 -w 800\n",
      "par(mfrow=c(3,3))\n",
      "for (i in 1:9) {\n",
      "   null_Ps = (i == first_null)\n",
      "   any_null=FALSE\n",
      "    if (sum(null_Ps) > 0) {\n",
      "      any_null = TRUE\n",
      "      plot(ecdf(spacings[null_Ps,i]), col='orange', main=paste('ECDF Step', i))\n",
      "      plot(ecdf(reducedK[null_Ps,i]), col='yellow', add=TRUE)\n",
      "      plot(ecdf(covtest[null_Ps,i]), col='red', add=TRUE)\n",
      "      plot(ecdf(sample_split[null_Ps,i]), col='purple', add=TRUE)   \n",
      "      plot(ecdf(reducedU[null_Ps,i]), col='blue', add=TRUE, lty=2)\n",
      "   }\n",
      "   null_Ps = (i == first_null_full)\n",
      "   if (sum(null_Ps) > 0) {\n",
      "       plot(ecdf(reducedKF[null_Ps,i]), col='cyan', add=any_null, main=paste('ECDF Step', i))\n",
      "       plot(ecdf(reducedUF[null_Ps,i]), col='green', add=TRUE)\n",
      "    }\n",
      "}"
     ],
     "language": "python",
     "metadata": {},
     "outputs": []
    },
    {
     "cell_type": "markdown",
     "metadata": {},
     "source": [
      "### Discoveries (when we had a true variable added to some model)"
     ]
    },
    {
     "cell_type": "code",
     "collapsed": false,
     "input": [
      "%%R  -h 800 -w 800\n",
      "par(mfrow=c(3,3))\n",
      "for (i in 1:9) {\n",
      "   alt_Ps = (hypotheses[,i] == 1)\n",
      "   if (sum(alt_Ps) > 0) {\n",
      "      plot(ecdf(spacings[alt_Ps,i]), col='orange', main=paste('ECDF Step', i))\n",
      "      plot(ecdf(reducedK[alt_Ps,i]), col='yellow', add=TRUE)\n",
      "      plot(ecdf(covtest[alt_Ps,i]), col='red', add=TRUE)\n",
      "      plot(ecdf(sample_split[alt_Ps,i]), col='purple', add=TRUE)   \n",
      "      plot(ecdf(reducedU[alt_Ps,i]), col='blue', add=TRUE, lty=2)\n",
      "   }\n",
      "   alt_Ps = (hypotheses_full[,i] == 1)\n",
      "   if (sum(alt_Ps) > 0) {\n",
      "       plot(ecdf(reducedKF[alt_Ps,i]), col='cyan', add=TRUE)\n",
      "       plot(ecdf(reducedUF[alt_Ps,i]), col='green', add=TRUE)\n",
      "   }\n",
      "}\n"
     ],
     "language": "python",
     "metadata": {},
     "outputs": []
    },
    {
     "cell_type": "code",
     "collapsed": false,
     "input": [],
     "language": "python",
     "metadata": {},
     "outputs": []
    },
    {
     "cell_type": "code",
     "collapsed": false,
     "input": [],
     "language": "python",
     "metadata": {},
     "outputs": []
    }
   ],
   "metadata": {}
  }
 ]
}